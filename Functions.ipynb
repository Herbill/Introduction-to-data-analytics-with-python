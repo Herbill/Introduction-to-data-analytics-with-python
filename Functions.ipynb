{
 "cells": [
  {
   "cell_type": "code",
   "execution_count": 12,
   "id": "94283420-b736-4683-954f-95097d1b8464",
   "metadata": {},
   "outputs": [],
   "source": [
    "def currency():\n",
    "    print(\"Ksh\")\n",
    "    "
   ]
  },
  {
   "cell_type": "code",
   "execution_count": 13,
   "id": "1e8301bb-bc00-4856-b1cd-31a639f1fd60",
   "metadata": {},
   "outputs": [
    {
     "name": "stdout",
     "output_type": "stream",
     "text": [
      "Ksh\n"
     ]
    }
   ],
   "source": [
    "currency()"
   ]
  },
  {
   "cell_type": "code",
   "execution_count": 16,
   "id": "b365b862-7308-4ffb-ad9f-59c12f0408bd",
   "metadata": {},
   "outputs": [
    {
     "data": {
      "text/plain": [
       "11"
      ]
     },
     "execution_count": 16,
     "metadata": {},
     "output_type": "execute_result"
    }
   ],
   "source": [
    "len(\"Danielhabil\")"
   ]
  },
  {
   "cell_type": "code",
   "execution_count": 17,
   "id": "8d64c66a-9a57-4ea9-b02d-ad00a578526a",
   "metadata": {},
   "outputs": [
    {
     "data": {
      "text/plain": [
       "int"
      ]
     },
     "execution_count": 17,
     "metadata": {},
     "output_type": "execute_result"
    }
   ],
   "source": [
    "type(20)"
   ]
  },
  {
   "cell_type": "code",
   "execution_count": 22,
   "id": "8929b935-b415-45c2-941c-c9ec3b0f355f",
   "metadata": {},
   "outputs": [
    {
     "data": {
      "text/plain": [
       "'benz'"
      ]
     },
     "execution_count": 22,
     "metadata": {},
     "output_type": "execute_result"
    }
   ],
   "source": [
    "               \n",
    "car[1]"
   ]
  },
  {
   "cell_type": "code",
   "execution_count": 24,
   "id": "9f3817be-2b55-467d-9b2c-1b367ca69096",
   "metadata": {},
   "outputs": [
    {
     "name": "stdout",
     "output_type": "stream",
     "text": [
      "bmw\n",
      "benz\n",
      "audi\n",
      "['bmw', 'benz', 'audi']\n"
     ]
    }
   ],
   "source": [
    "ind=0\n",
    "for item in car:\n",
    "    print(item)\n",
    "\n",
    "print(car)"
   ]
  },
  {
   "cell_type": "code",
   "execution_count": 26,
   "id": "389965ec-3126-4402-a302-ace1ca998fe9",
   "metadata": {},
   "outputs": [
    {
     "name": "stdout",
     "output_type": "stream",
     "text": [
      "['bmw', 'benz', 'garikali']\n"
     ]
    }
   ],
   "source": [
    "car=[\"bmw\", \"benz\", \"audi\"]\n",
    "ind=0\n",
    "for item in car:\n",
    "    if item == \"audi\":\n",
    "        car[ind]=\"garikali\"\n",
    "    ind= ind +1    \n",
    "print(car)"
   ]
  },
  {
   "cell_type": "code",
   "execution_count": 27,
   "id": "5d38d7a4-3157-4187-9aed-7084404e924e",
   "metadata": {},
   "outputs": [
    {
     "name": "stdout",
     "output_type": "stream",
     "text": [
      "['bmw', 'benz', 'garikali', 'ford']\n"
     ]
    }
   ],
   "source": [
    "car.append(\"ford\")\n",
    "print(car)"
   ]
  },
  {
   "cell_type": "code",
   "execution_count": 28,
   "id": "0c0baafd-47af-4d5f-8852-2867689576e0",
   "metadata": {},
   "outputs": [
    {
     "name": "stdout",
     "output_type": "stream",
     "text": [
      "['bmw', 'garikali', 'ford']\n"
     ]
    }
   ],
   "source": [
    "car.remove(\"benz\")\n",
    "print(car)"
   ]
  }
 ],
 "metadata": {
  "kernelspec": {
   "display_name": "Python 3 (ipykernel)",
   "language": "python",
   "name": "python3"
  },
  "language_info": {
   "codemirror_mode": {
    "name": "ipython",
    "version": 3
   },
   "file_extension": ".py",
   "mimetype": "text/x-python",
   "name": "python",
   "nbconvert_exporter": "python",
   "pygments_lexer": "ipython3",
   "version": "3.12.4"
  }
 },
 "nbformat": 4,
 "nbformat_minor": 5
}
