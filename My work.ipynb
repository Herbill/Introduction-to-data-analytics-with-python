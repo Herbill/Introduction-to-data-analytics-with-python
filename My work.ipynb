{
 "cells": [
  {
   "cell_type": "code",
   "execution_count": 1,
   "id": "6b9cc116-40cd-4ad6-98fd-af72b25dfd0a",
   "metadata": {},
   "outputs": [],
   "source": [
    "x= \"habil\"\n",
    "y= \"daniel\""
   ]
  },
  {
   "cell_type": "code",
   "execution_count": 2,
   "id": "718ae001-153c-4815-a417-f81e122f8786",
   "metadata": {},
   "outputs": [
    {
     "data": {
      "text/plain": [
       "'habildaniel'"
      ]
     },
     "execution_count": 2,
     "metadata": {},
     "output_type": "execute_result"
    }
   ],
   "source": [
    "x+y"
   ]
  },
  {
   "cell_type": "code",
   "execution_count": 3,
   "id": "7125cc67-918c-4780-87d3-2062a1464e15",
   "metadata": {},
   "outputs": [
    {
     "data": {
      "text/plain": [
       "'habil daniel'"
      ]
     },
     "execution_count": 3,
     "metadata": {},
     "output_type": "execute_result"
    }
   ],
   "source": [
    "x+\" \"+y\n"
   ]
  },
  {
   "cell_type": "code",
   "execution_count": 4,
   "id": "86e5b603-8223-4985-a760-2e5a34a2a285",
   "metadata": {},
   "outputs": [
    {
     "data": {
      "text/plain": [
       "'habilhabilhabilhabilhabilhabil'"
      ]
     },
     "execution_count": 4,
     "metadata": {},
     "output_type": "execute_result"
    }
   ],
   "source": [
    "x*6"
   ]
  },
  {
   "cell_type": "code",
   "execution_count": 5,
   "id": "0d60ad1c-b6fa-417f-891d-1ddce5eb3f43",
   "metadata": {},
   "outputs": [
    {
     "data": {
      "text/plain": [
       "'b'"
      ]
     },
     "execution_count": 5,
     "metadata": {},
     "output_type": "execute_result"
    }
   ],
   "source": [
    "x[2]"
   ]
  },
  {
   "cell_type": "code",
   "execution_count": 6,
   "id": "39a7c475-4132-45af-9376-ce4c1e48c486",
   "metadata": {},
   "outputs": [
    {
     "name": "stdin",
     "output_type": "stream",
     "text": [
      "Enter First name:  Daniel\n"
     ]
    }
   ],
   "source": [
    "name = input(\"Enter First name: \")"
   ]
  },
  {
   "cell_type": "code",
   "execution_count": 7,
   "id": "2a0aa56f-71aa-40e5-9df2-54a9230f90c3",
   "metadata": {},
   "outputs": [
    {
     "name": "stdout",
     "output_type": "stream",
     "text": [
      "Daniel\n"
     ]
    }
   ],
   "source": [
    "print(name)"
   ]
  },
  {
   "cell_type": "code",
   "execution_count": 8,
   "id": "5f4bd284-73b2-4cf2-817d-21e38e3eb994",
   "metadata": {},
   "outputs": [
    {
     "name": "stdout",
     "output_type": "stream",
     "text": [
      "0\n",
      "1\n",
      "2\n",
      "3\n",
      "4\n",
      "5\n",
      "6\n",
      "7\n",
      "8\n",
      "9\n",
      "10\n"
     ]
    }
   ],
   "source": [
    "for i in range (11):\n",
    "    print(i)\n"
   ]
  },
  {
   "cell_type": "code",
   "execution_count": 10,
   "id": "4d7ff734-329d-480e-9714-00e2d04f5b36",
   "metadata": {},
   "outputs": [
    {
     "name": "stdout",
     "output_type": "stream",
     "text": [
      "D\n",
      "a\n",
      "n\n",
      "i\n",
      "e\n",
      "l\n"
     ]
    }
   ],
   "source": [
    "for chr in name:\n",
    "     print(chr)"
   ]
  },
  {
   "cell_type": "code",
   "execution_count": 22,
   "id": "4a66482c-7bae-44b8-8095-8c93c2b5abd2",
   "metadata": {},
   "outputs": [
    {
     "name": "stdout",
     "output_type": "stream",
     "text": [
      "1\n"
     ]
    }
   ],
   "source": [
    "for i in range( 1,4,3):\n",
    "    print (i)"
   ]
  },
  {
   "cell_type": "code",
   "execution_count": 1,
   "id": "da886a6c-4ca7-4ce1-9aa0-d21706b28c7a",
   "metadata": {},
   "outputs": [],
   "source": [
    "# This is a single line comment"
   ]
  },
  {
   "cell_type": "code",
   "execution_count": 2,
   "id": "262174b2-2d58-4021-aad2-620557bc7784",
   "metadata": {},
   "outputs": [
    {
     "name": "stdout",
     "output_type": "stream",
     "text": [
      "l\n"
     ]
    }
   ],
   "source": [
    "name = 'Habil'\n",
    "print(name[4]) "
   ]
  },
  {
   "cell_type": "code",
   "execution_count": 9,
   "id": "7046aef4-8004-47d1-bdb1-1390394b618a",
   "metadata": {},
   "outputs": [
    {
     "name": "stdout",
     "output_type": "stream",
     "text": [
      "1,2,3,4,5,6,7,8,9,10,"
     ]
    }
   ],
   "source": [
    "#1,2,3,4,5,6,7,8,9,10\n",
    "for x in range(1,11):\n",
    "     print(x,end=\",\")"
   ]
  },
  {
   "cell_type": "code",
   "execution_count": 10,
   "id": "4b143619-f24a-4e8f-b57b-50a877872511",
   "metadata": {},
   "outputs": [
    {
     "name": "stdout",
     "output_type": "stream",
     "text": [
      "1,2,3,4,5,6,7,8,9,10,\n",
      " 55\n"
     ]
    }
   ],
   "source": [
    "#1,2,3,4,5,6,7,8,9,10\n",
    "total = 0\n",
    "for x in range(1,11):\n",
    "     total+=x\n",
    "     print(x, end = \",\")\n",
    "\n",
    "print('\\n', total)"
   ]
  },
  {
   "cell_type": "code",
   "execution_count": 11,
   "id": "40bde394-4940-4835-a172-9e074cc4baf3",
   "metadata": {},
   "outputs": [
    {
     "name": "stdin",
     "output_type": "stream",
     "text": [
      "Enter age:  20\n",
      "Enter age:  12\n",
      "Enter age:  21\n",
      "Enter age:  23\n"
     ]
    },
    {
     "name": "stdout",
     "output_type": "stream",
     "text": [
      "76 19.0\n"
     ]
    }
   ],
   "source": [
    "x=int(input(\"Enter age: \"))\n",
    "y=int(input(\"Enter age: \"))\n",
    "z=int(input(\"Enter age: \"))\n",
    "xy=int(input(\"Enter age: \"))\n",
    "\n",
    "total = x+y+z+xy\n",
    "average = total/4\n",
    "\n",
    "print(total, average)\n"
   ]
  },
  {
   "cell_type": "code",
   "execution_count": 12,
   "id": "ba24d0a1-c5da-4a49-9e9b-5478d6edf443",
   "metadata": {},
   "outputs": [
    {
     "name": "stdin",
     "output_type": "stream",
     "text": [
      "Enter age 20\n"
     ]
    },
    {
     "name": "stdout",
     "output_type": "stream",
     "text": [
      "20,"
     ]
    },
    {
     "name": "stdin",
     "output_type": "stream",
     "text": [
      "Enter age 21\n"
     ]
    },
    {
     "name": "stdout",
     "output_type": "stream",
     "text": [
      "21,"
     ]
    },
    {
     "name": "stdin",
     "output_type": "stream",
     "text": [
      "Enter age 21\n"
     ]
    },
    {
     "name": "stdout",
     "output_type": "stream",
     "text": [
      "21,"
     ]
    },
    {
     "name": "stdin",
     "output_type": "stream",
     "text": [
      "Enter age 23\n"
     ]
    },
    {
     "name": "stdout",
     "output_type": "stream",
     "text": [
      "23,\n",
      " 85 21.25\n"
     ]
    }
   ],
   "source": [
    "total = 0\n",
    "for x in range(4):\n",
    "    x = int(input(\"Enter age\"))\n",
    "    total +=x\n",
    "    print(x, end=\",\")\n",
    "\n",
    "print('\\n', total, total/4)"
   ]
  },
  {
   "cell_type": "code",
   "execution_count": 16,
   "id": "73e9cdae-824e-4ea4-8466-4cd2b3197bdd",
   "metadata": {},
   "outputs": [
    {
     "name": "stdin",
     "output_type": "stream",
     "text": [
      "Enter age:  20\n",
      "Enter age:  21\n",
      "Enter age:  22\n",
      "Enter age:  23\n",
      "Enter age:  24\n"
     ]
    },
    {
     "name": "stdout",
     "output_type": "stream",
     "text": [
      "22.0\n"
     ]
    }
   ],
   "source": [
    "a=int(input(\"Enter score: \"))\n",
    "b=int(input(\"Enter score: \"))\n",
    "c=int(input(\"Enter score: \"))\n",
    "d=int(input(\"Enter score: \"))\n",
    "cd=int(input(\"Enter score: \"))\n",
    "\n",
    "\n",
    "average = total/5\n",
    "\n",
    "print(average)\n"
   ]
  },
  {
   "cell_type": "code",
   "execution_count": 17,
   "id": "14d6f344-f848-4b4c-8389-1de6dbb0022d",
   "metadata": {},
   "outputs": [
    {
     "name": "stdin",
     "output_type": "stream",
     "text": [
      "Enter score 20\n"
     ]
    },
    {
     "name": "stdout",
     "output_type": "stream",
     "text": [
      "20,"
     ]
    },
    {
     "name": "stdin",
     "output_type": "stream",
     "text": [
      "Enter score 21\n"
     ]
    },
    {
     "name": "stdout",
     "output_type": "stream",
     "text": [
      "21,"
     ]
    },
    {
     "name": "stdin",
     "output_type": "stream",
     "text": [
      "Enter score 22\n"
     ]
    },
    {
     "name": "stdout",
     "output_type": "stream",
     "text": [
      "22,"
     ]
    },
    {
     "name": "stdin",
     "output_type": "stream",
     "text": [
      "Enter score 23\n"
     ]
    },
    {
     "name": "stdout",
     "output_type": "stream",
     "text": [
      "23,"
     ]
    },
    {
     "name": "stdin",
     "output_type": "stream",
     "text": [
      "Enter score 24\n"
     ]
    },
    {
     "name": "stdout",
     "output_type": "stream",
     "text": [
      "24,\n",
      " 4.4\n"
     ]
    }
   ],
   "source": [
    "total = 0\n",
    "for x in range(5):\n",
    "    x = int(input(\"Enter score\"))\n",
    "    total +=x\n",
    "    print(x, end=\",\")\n",
    "\n",
    "print('\\n', average/5)"
   ]
  },
  {
   "cell_type": "code",
   "execution_count": 23,
   "id": "999f6121-464d-4561-8dde-c1eba880b6e3",
   "metadata": {},
   "outputs": [
    {
     "name": "stdin",
     "output_type": "stream",
     "text": [
      "Enter Age 20\n",
      "Enter Age 21\n",
      "Enter Age 22\n",
      "Enter Age 23\n"
     ]
    },
    {
     "name": "stdout",
     "output_type": "stream",
     "text": [
      "21.5\n"
     ]
    }
   ],
   "source": [
    "count = 0\n",
    "total = 0\n",
    "while count < 4:\n",
    "    x = int(input(\"Enter Age\"))\n",
    "    total +=x\n",
    "    count += 1\n",
    "\n",
    "print(total/count)"
   ]
  },
  {
   "cell_type": "code",
   "execution_count": 26,
   "id": "ed7f637e-4a70-46f1-93d8-e0a800b523f6",
   "metadata": {},
   "outputs": [
    {
     "name": "stdin",
     "output_type": "stream",
     "text": [
      "name baraka\n",
      "name joe\n",
      "name adiah\n",
      "name dan\n",
      "name daniel\n"
     ]
    }
   ],
   "source": [
    "check = True\n",
    "while check:\n",
    "    name= input(\"name\")\n",
    "    if \"Daniel\" in name or 'daniel' in name:\n",
    "        check = False"
   ]
  },
  {
   "cell_type": "code",
   "execution_count": null,
   "id": "2ccfc03d-b8fa-45bd-9ea9-f77be4eadf58",
   "metadata": {},
   "outputs": [],
   "source": [
    "def checke_even_or_odd(number)\n",
    "if number % 2 == 0:\n",
    "    return \"Even\"\n",
    "    or\n",
    "    return \"odd\"\n",
    "    print"
   ]
  },
  {
   "cell_type": "code",
   "execution_count": null,
   "id": "08708ae3-39e6-40f7-a626-476fe48c3c8b",
   "metadata": {},
   "outputs": [],
   "source": [
    "def main():\n",
    "    try:\n",
    "        \n",
    "        num = int(input(\"\"))"
   ]
  },
  {
   "cell_type": "code",
   "execution_count": null,
   "id": "dbdefe73-85c6-4021-bd2c-737339f250b5",
   "metadata": {},
   "outputs": [],
   "source": []
  }
 ],
 "metadata": {
  "kernelspec": {
   "display_name": "Python 3 (ipykernel)",
   "language": "python",
   "name": "python3"
  },
  "language_info": {
   "codemirror_mode": {
    "name": "ipython",
    "version": 3
   },
   "file_extension": ".py",
   "mimetype": "text/x-python",
   "name": "python",
   "nbconvert_exporter": "python",
   "pygments_lexer": "ipython3",
   "version": "3.12.4"
  }
 },
 "nbformat": 4,
 "nbformat_minor": 5
}
